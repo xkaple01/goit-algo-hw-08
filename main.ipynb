{
 "cells": [
  {
   "cell_type": "code",
   "execution_count": null,
   "metadata": {},
   "outputs": [],
   "source": [
    "import heapq"
   ]
  },
  {
   "cell_type": "code",
   "execution_count": 35,
   "metadata": {},
   "outputs": [],
   "source": [
    "def order(cables: list[int]) -> tuple[list[int], int]:\n",
    "    heapq.heapify(cables)\n",
    "\n",
    "    cost: int = 0\n",
    "    cables_ordered: list = []\n",
    "\n",
    "    selected_cable: int = heapq.heappop(cables)\n",
    "    cables_ordered.append(selected_cable)\n",
    "    connected_length: int = selected_cable\n",
    "    \n",
    "    for _ in range(len(cables)):\n",
    "        selected_cable: int = heapq.heappop(cables)\n",
    "        cables_ordered.append(selected_cable)\n",
    "        connected_length += selected_cable\n",
    "        cost += connected_length\n",
    "\n",
    "    return cables_ordered, cost"
   ]
  },
  {
   "cell_type": "code",
   "execution_count": 42,
   "metadata": {},
   "outputs": [
    {
     "name": "stdout",
     "output_type": "stream",
     "text": [
      "Original order of cables: [4, 1, 3, 2]\n",
      "Optimal order of cables: [1, 2, 3, 4]\n",
      "Cost of solution: 19\n"
     ]
    }
   ],
   "source": [
    "cables: list[int] = [4, 1, 3, 2]\n",
    "print(f'Original order of cables: {cables}')\n",
    "\n",
    "cables_ordered, cost = order(cables=cables)\n",
    "\n",
    "print(f'Optimal order of cables: {cables_ordered}')\n",
    "print(f'Cost of solution: {cost}')"
   ]
  }
 ],
 "metadata": {
  "kernelspec": {
   "display_name": "viz",
   "language": "python",
   "name": "python3"
  },
  "language_info": {
   "codemirror_mode": {
    "name": "ipython",
    "version": 3
   },
   "file_extension": ".py",
   "mimetype": "text/x-python",
   "name": "python",
   "nbconvert_exporter": "python",
   "pygments_lexer": "ipython3",
   "version": "3.13.0"
  }
 },
 "nbformat": 4,
 "nbformat_minor": 2
}
